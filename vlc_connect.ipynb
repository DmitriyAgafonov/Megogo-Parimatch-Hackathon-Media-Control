{
 "cells": [
  {
   "cell_type": "code",
   "execution_count": 1,
   "id": "a70cf3c3",
   "metadata": {},
   "outputs": [],
   "source": [
    "video_path = r'D:\\Films\\zerkalo_rus.avi'\n",
    "\n",
    "vlc_path = r'C:\\Users\\adima\\Desktop\\projects\\python\\MediaControl\\venv\\Scripts\\VLC\\vlc.exe'\n",
    "\n",
    "term_command = [vlc_path,\n",
    "                '--video-on-top',\n",
    "                '--no-volume-save',\n",
    "                '--play-and-exit',\n",
    "                '--snapshot-path=screenshots',\n",
    "                '--snapshot-sequential',\n",
    "                '--input-record-path=records',\n",
    "                video_path]"
   ]
  },
  {
   "cell_type": "code",
   "execution_count": 3,
   "id": "acf35c65",
   "metadata": {},
   "outputs": [],
   "source": [
    "import subprocess\n",
    "p = subprocess.Popen(term_command)"
   ]
  },
  {
   "cell_type": "code",
   "execution_count": null,
   "id": "88968ffb",
   "metadata": {},
   "outputs": [],
   "source": []
  }
 ],
 "metadata": {
  "kernelspec": {
   "display_name": "Python 3 (ipykernel)",
   "language": "python",
   "name": "python3"
  },
  "language_info": {
   "codemirror_mode": {
    "name": "ipython",
    "version": 3
   },
   "file_extension": ".py",
   "mimetype": "text/x-python",
   "name": "python",
   "nbconvert_exporter": "python",
   "pygments_lexer": "ipython3",
   "version": "3.8.12"
  }
 },
 "nbformat": 4,
 "nbformat_minor": 5
}
