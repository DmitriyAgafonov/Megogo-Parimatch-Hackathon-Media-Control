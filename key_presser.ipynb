{
 "cells": [
  {
   "cell_type": "code",
   "execution_count": 1,
   "id": "effa5d7e",
   "metadata": {},
   "outputs": [
    {
     "name": "stdout",
     "output_type": "stream",
     "text": [
      "key_presser - Jupyter Notebook - Google Chrome\n"
     ]
    }
   ],
   "source": [
    "from win32gui import GetWindowText, GetForegroundWindow\n",
    "print(GetWindowText(GetForegroundWindow()))"
   ]
  },
  {
   "cell_type": "code",
   "execution_count": 2,
   "id": "f37ef74c",
   "metadata": {},
   "outputs": [],
   "source": [
    "import speech_recognition as sr\n",
    "import jellyfish\n",
    "import keyboard\n"
   ]
  },
  {
   "cell_type": "code",
   "execution_count": 3,
   "id": "66076f1f",
   "metadata": {},
   "outputs": [],
   "source": [
    "mic = sr.Microphone()\n",
    "r = sr.Recognizer()\n"
   ]
  },
  {
   "cell_type": "code",
   "execution_count": null,
   "id": "a3e4a43b",
   "metadata": {},
   "outputs": [
    {
     "name": "stdout",
     "output_type": "stream",
     "text": [
      "speak\n",
      "<speech_recognition.AudioData object at 0x0000024490E27CA0>\n",
      "Закрой видео\n",
      "speak\n",
      "<speech_recognition.AudioData object at 0x0000024490DF2700>\n",
      "speak\n",
      "<speech_recognition.AudioData object at 0x0000024490FE7F40>\n",
      "speak\n",
      "<speech_recognition.AudioData object at 0x0000024490E27CD0>\n",
      "speak\n",
      "<speech_recognition.AudioData object at 0x0000024490DF2700>\n",
      "пауза\n",
      "speak\n",
      "<speech_recognition.AudioData object at 0x0000024491040FA0>\n",
      "скриншот\n",
      "speak\n",
      "speak\n",
      "<speech_recognition.AudioData object at 0x0000024490DF2700>\n",
      "Ну Анастасия\n",
      "speak\n"
     ]
    }
   ],
   "source": [
    "while True:\n",
    "    try:\n",
    "        print('speak')\n",
    "\n",
    "        with mic as source:\n",
    "\n",
    "                r.adjust_for_ambient_noise(source)\n",
    "                #audio = r.listen(source,offset=2.5,duration=3)\n",
    "                audio=r.listen(source)\n",
    "                print(audio)\n",
    "        print(r.recognize_google(audio, language=\"ru-RU\"))\n",
    "\n",
    "        if jellyfish.jaro_distance(r.recognize_google(audio, language=\"ru-RU\"), 'видос закрой') > 0.8:\n",
    "            keyboard.press_and_release('escape')\n",
    "            \n",
    "        elif jellyfish.jaro_distance(r.recognize_google(audio, language=\"ru-RU\"), 'пауза') > 0.8 \\\n",
    "                        or jellyfish.jaro_distance(r.recognize_google(audio, language=\"ru-RU\"), 'запускай') > 0.8:\n",
    "            keyboard.press_and_release('space')\n",
    "            \n",
    "        elif jellyfish.jaro_distance(r.recognize_google(audio, language=\"ru-RU\"), 'скриншот') > 0.8:\n",
    "            keyboard.press_and_release('up arrow')\n",
    "            \n",
    "    except:\n",
    "        pass"
   ]
  },
  {
   "cell_type": "code",
   "execution_count": null,
   "id": "3af2f00c",
   "metadata": {},
   "outputs": [],
   "source": []
  },
  {
   "cell_type": "code",
   "execution_count": null,
   "id": "94d8c3e3",
   "metadata": {},
   "outputs": [],
   "source": []
  },
  {
   "cell_type": "code",
   "execution_count": null,
   "id": "7869d792",
   "metadata": {},
   "outputs": [],
   "source": []
  },
  {
   "cell_type": "code",
   "execution_count": null,
   "id": "b1576881",
   "metadata": {},
   "outputs": [],
   "source": []
  }
 ],
 "metadata": {
  "kernelspec": {
   "display_name": "Python 3 (ipykernel)",
   "language": "python",
   "name": "python3"
  },
  "language_info": {
   "codemirror_mode": {
    "name": "ipython",
    "version": 3
   },
   "file_extension": ".py",
   "mimetype": "text/x-python",
   "name": "python",
   "nbconvert_exporter": "python",
   "pygments_lexer": "ipython3",
   "version": "3.8.12"
  }
 },
 "nbformat": 4,
 "nbformat_minor": 5
}
