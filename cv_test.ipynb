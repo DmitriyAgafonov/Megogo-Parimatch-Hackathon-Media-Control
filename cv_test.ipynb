{
 "cells": [
  {
   "cell_type": "code",
   "execution_count": 1,
   "id": "2e96361e",
   "metadata": {},
   "outputs": [],
   "source": [
    "import cv2\n",
    "import numpy as np"
   ]
  },
  {
   "cell_type": "code",
   "execution_count": 2,
   "id": "948097ec",
   "metadata": {},
   "outputs": [],
   "source": [
    "cap = cv2.VideoCapture(r'C:\\Users\\adima\\Desktop\\projects\\python\\MediaControl\\video\\test_video.mp4')\n"
   ]
  },
  {
   "cell_type": "code",
   "execution_count": 3,
   "id": "a2cb887e",
   "metadata": {},
   "outputs": [],
   "source": [
    "if not cap.isOpened():\n",
    "    print(\"Error opening video\")\n",
    "\n",
    "while(cap.isOpened()):\n",
    "    status, frame = cap.read()\n",
    "    if status:\n",
    "        cv2.imshow('frame', frame)\n",
    "    key = cv2.waitKey(1)\n",
    "    \n",
    "    if key == ord('q'):\n",
    "        break\n",
    "        \n",
    "cv2.destroyAllWindows()"
   ]
  },
  {
   "cell_type": "code",
   "execution_count": null,
   "id": "692eca14",
   "metadata": {},
   "outputs": [],
   "source": []
  },
  {
   "cell_type": "code",
   "execution_count": null,
   "id": "5fdb364b",
   "metadata": {},
   "outputs": [],
   "source": []
  }
 ],
 "metadata": {
  "kernelspec": {
   "display_name": "Python 3 (ipykernel)",
   "language": "python",
   "name": "python3"
  },
  "language_info": {
   "codemirror_mode": {
    "name": "ipython",
    "version": 3
   },
   "file_extension": ".py",
   "mimetype": "text/x-python",
   "name": "python",
   "nbconvert_exporter": "python",
   "pygments_lexer": "ipython3",
   "version": "3.8.12"
  }
 },
 "nbformat": 4,
 "nbformat_minor": 5
}
